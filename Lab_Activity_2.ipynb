{
  "nbformat": 4,
  "nbformat_minor": 0,
  "metadata": {
    "colab": {
      "provenance": [],
      "authorship_tag": "ABX9TyOLKSRL8cj4aVAunKvBNabY",
      "include_colab_link": true
    },
    "kernelspec": {
      "name": "python3",
      "display_name": "Python 3"
    },
    "language_info": {
      "name": "python"
    }
  },
  "cells": [
    {
      "cell_type": "markdown",
      "metadata": {
        "id": "view-in-github",
        "colab_type": "text"
      },
      "source": [
        "<a href=\"https://colab.research.google.com/github/EzekielBalajadia/OOP-1-1/blob/main/Lab_Activity_2.ipynb\" target=\"_parent\"><img src=\"https://colab.research.google.com/assets/colab-badge.svg\" alt=\"Open In Colab\"/></a>"
      ]
    },
    {
      "cell_type": "code",
      "source": [
        "#1\n",
        "Name = \"Ezekiel B. Balajadia\"\n",
        "Student_No = '02210000916'\n",
        "Age = 20\n",
        "School = \"Our Lady Fatima University\"\n",
        "Course = \"Bachelor in Science Computer Science\"\n",
        "#2\n",
        "class Student:\n",
        "  def __init__(self,Name, Student_No, Age,School,Course):\n",
        "    self.Name = Name\n",
        "    self.Student_No = Student_No\n",
        "    self.Age = Age\n",
        "    self.School = School\n",
        "    self.Course = Course\n",
        "  #4\n",
        "  def info(self):\n",
        "    print(\"Name: \"+self.Name)\n",
        "    print(\"Student: \",self.Student_No)\n",
        "    print(\"Age: \",self.Age)\n",
        "    print(\"School: \"+self.School)\n",
        "    print(\"Course: \"+self.Course)\n",
        "#3\n",
        "Myself = Student(Name,Student_No,Age,School,Course)\n",
        "#4\n",
        "Myself.info()"
      ],
      "metadata": {
        "colab": {
          "base_uri": "https://localhost:8080/"
        },
        "id": "xuEAbr6f11MC",
        "outputId": "3c43de77-50f7-4f82-9c26-7c2ee074a030"
      },
      "execution_count": 27,
      "outputs": [
        {
          "output_type": "stream",
          "name": "stdout",
          "text": [
            "Name: Ezekiel B. Balajadia\n",
            "Student:  02210000916\n",
            "Age:  20\n",
            "School: Our Lady Fatima University\n",
            "Course: Bachelor in Science Computer Science\n"
          ]
        }
      ]
    }
  ]
}